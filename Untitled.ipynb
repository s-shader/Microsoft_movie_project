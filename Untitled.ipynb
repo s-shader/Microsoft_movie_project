{
 "cells": [
  {
   "cell_type": "code",
   "execution_count": 1,
   "metadata": {},
   "outputs": [
    {
     "name": "stderr",
     "output_type": "stream",
     "text": [
      "/Users/sawyershader-seave/opt/anaconda3/envs/learn-env/lib/python3.6/site-packages/statsmodels/tools/_testing.py:19: FutureWarning: pandas.util.testing is deprecated. Use the functions in the public API at pandas.testing instead.\n",
      "  import pandas.util.testing as tm\n"
     ]
    }
   ],
   "source": [
    "from bs4 import BeautifulSoup\n",
    "import lxml.html as lh\n",
    "import pandas as pd\n",
    "import numpy as np\n",
    "import requests \n",
    "import seaborn as sns\n",
    "import matplotlib.pyplot as plt\n",
    "\n"
   ]
  },
  {
   "cell_type": "code",
   "execution_count": 70,
   "metadata": {},
   "outputs": [
    {
     "data": {
      "text/plain": [
       "<matplotlib.axes._subplots.AxesSubplot at 0x1a24417128>"
      ]
     },
     "execution_count": 70,
     "metadata": {},
     "output_type": "execute_result"
    },
    {
     "data": {
      "image/png": "[encoded data removed]",
      "text/plain": [
       "<Figure size 432x288 with 1 Axes>"
      ]
     },
     "metadata": {
      "needs_background": "light"
     },
     "output_type": "display_data"
    }
   ],
   "source": [
    "top_companies=['msft','cmcsa','viac','t','dis','sne','lgf-a']\n",
    "\n",
    "net={'net_margin':[]}\n",
    "operating={'operating_margin':[]}\n",
    "roa={'Return_on_assets':[]}\n",
    "roe={'Return_on_equity':[]}\n",
    "\n",
    "\n",
    "\n",
    "\n",
    "\n",
    "for i in top_companies:\n",
    "  site= 'https://finance.yahoo.com/quote/'+i+'/key-statistics?p='+i\n",
    "  tables=pd.read_html(site)\n",
    "  temp=tables[5]\n",
    "  net['net_margin'].append(temp[1][0])\n",
    "  operating['operating_margin'].append(temp[1][1])\n",
    "  temp=tables[6]\n",
    "  roa['Return_on_assets'].append(temp[1][0])\n",
    "  roe['Return_on_equity'].append(temp[1][1])\n",
    "\n",
    "\n",
    "margins = dict(net, **operating,**roa,**roe)\n",
    "\n",
    "data=pd.DataFrame(margins,index=top_companies)\n",
    "\n",
    "\n",
    "for j in data.columns:\n",
    "  data[j]= [i[:-1] for i in data[j]]\n",
    "  data[j]=data[j].astype(float)\n",
    "\n",
    "\n",
    "comps=data.iloc[1:].describe().iloc[1:]\n",
    "comps2=comps.append(data.iloc[0])\n",
    "comps2\n",
    "\n",
    "comps3=comps2.iloc[[0,4,-1]]\n",
    "comps4=comps3.rename(index={'50%':'median'})\n",
    "comps4\n",
    "# comps3_tp=comps3.transpose()\n",
    "# comps3_tp\n",
    "sns.barplot(x=comps3.index,y=comps3['net_margin'])\n",
    "sns.barplot(x=comps3.index,y=comps3['operating_margin'])\n",
    "sns.barplot(x=comps3.index,y=comps3['Return_on_assets'])\n",
    "sns.barplot(x=comps3.index,y=comps3['Return_on_equity'])\n"
   ]
  },
  {
   "cell_type": "code",
   "execution_count": null,
   "metadata": {},
   "outputs": [],
   "source": []
  }
 ],
 "metadata": {
  "kernelspec": {
   "display_name": "Python [conda env:learn-env] *",
   "language": "python",
   "name": "conda-env-learn-env-py"
  },
  "language_info": {
   "codemirror_mode": {
    "name": "ipython",
    "version": 3
   },
   "file_extension": ".py",
   "mimetype": "text/x-python",
   "name": "python",
   "nbconvert_exporter": "python",
   "pygments_lexer": "ipython3",
   "version": "3.6.9"
  }
 },
 "nbformat": 4,
 "nbformat_minor": 2
}
